{
 "cells": [
  {
   "cell_type": "code",
   "execution_count": null,
   "metadata": {},
   "outputs": [],
   "source": []
  },
  {
   "cell_type": "code",
   "execution_count": 1,
   "metadata": {},
   "outputs": [],
   "source": [
    "import os\n",
    "import glob"
   ]
  },
  {
   "cell_type": "code",
   "execution_count": 2,
   "metadata": {},
   "outputs": [],
   "source": [
    "pwd = os.getcwd()\n",
    "download_path = os.path.join(pwd, \"downloads\")\n",
    "os.makedirs(download_path, exist_ok=True)"
   ]
  },
  {
   "cell_type": "code",
   "execution_count": 3,
   "metadata": {},
   "outputs": [
    {
     "name": "stdout",
     "output_type": "stream",
     "text": [
      "<generator object read_lines_from_txt.<locals>.<genexpr> at 0x75300d191b60>\n"
     ]
    }
   ],
   "source": [
    "def read_lines_from_txt(file_path=\"keywords.txt\"):\n",
    "    with open(file_path, \"r\") as file:\n",
    "        lines = file.readlines()\n",
    "        # Remove any trailing newline characters from each line\n",
    "        lines = (line.strip() for line in lines)\n",
    "    return lines\n",
    "\n",
    "\n",
    "print(read_lines_from_txt())"
   ]
  },
  {
   "cell_type": "code",
   "execution_count": 4,
   "metadata": {},
   "outputs": [],
   "source": [
    "def remove_files_in_directory(directory_path):\n",
    "    # Get a list of all file paths in the directory\n",
    "    files = glob.glob(os.path.join(directory_path, \"*\"))\n",
    "\n",
    "    # Loop through the list and remove each file\n",
    "    for file_path in files:\n",
    "        try:\n",
    "            if os.path.isfile(file_path):\n",
    "                os.remove(file_path)\n",
    "            elif os.path.isdir(file_path):\n",
    "                pass\n",
    "        except Exception as e:\n",
    "            pass"
   ]
  },
  {
   "cell_type": "code",
   "execution_count": 12,
   "metadata": {},
   "outputs": [],
   "source": [
    "async def download(page, button, to_path):\n",
    "    async with page.expect_download(timeout=5 * 60 * 1000) as download_info:\n",
    "        # Perform the action that initiates download\n",
    "        # await page.get_by_text(\"Download file\").click()\n",
    "        await button.click()\n",
    "\n",
    "    download = await download_info.value\n",
    "    path_zip = os.path.join(to_path, download.suggested_filename)\n",
    "    await download.save_as(path_zip)"
   ]
  },
  {
   "cell_type": "code",
   "execution_count": 25,
   "metadata": {},
   "outputs": [
    {
     "name": "stdout",
     "output_type": "stream",
     "text": [
      "/home/fsilva/Desktop/projects/usa-spending/downloads/FY_2024\n"
     ]
    }
   ],
   "source": [
    "from playwright.async_api import async_playwright\n",
    "\n",
    "\n",
    "async def usa_spending_downloader(headless=True):\n",
    "    print(\"Starting Downloader\")\n",
    "    p = await async_playwright().start()\n",
    "    browser = await p.chromium.launch(headless=headless)\n",
    "    context = await browser.new_context(\n",
    "        accept_downloads=True,\n",
    "        user_agent=\"Mozilla/5.0 (Windows NT 10.0; Win64; x64) AppleWebKit/537.36 (KHTML, like Gecko) Chrome/91.0.4472.124 Safari/537.36\",\n",
    "    )\n",
    "    page = await context.new_page()\n",
    "    url = \"https://www.usaspending.gov/search/\"\n",
    "    await page.goto(url, timeout=60000)\n",
    "    await page.wait_for_load_state(\"networkidle\")\n",
    "\n",
    "    await page.wait_for_selector(\"div.search-results\", state=\"attached\", timeout=60000)\n",
    "\n",
    "    # Adding keywords\n",
    "    await page.click(\"button.filter-toggle__button\")\n",
    "\n",
    "    for k in read_lines_from_txt():\n",
    "        await page.wait_for_timeout(1000)\n",
    "        await page.click(\"input#search\")\n",
    "        await page.fill(\"input#search\", k)\n",
    "        await page.click(\"button.keyword-submit\")\n",
    "\n",
    "    filters_container = await page.query_selector(\"div.fy-columns-container\")\n",
    "    year_checkboxes = await filters_container.query_selector_all(\n",
    "        \"label.fy-option-wrapper\"\n",
    "    )\n",
    "    submit_button = await page.query_selector(\"button:has-text('Submit')\")\n",
    "    pwd = os.getcwd()\n",
    "    download_dir = os.path.join(pwd, \"downloads\")\n",
    "    for y in year_checkboxes:\n",
    "        # setting up year dir\n",
    "\n",
    "        year = (await y.inner_text()).replace(\" \", \"_\")\n",
    "        download_year_dir = os.path.join(download_dir, year)\n",
    "        print(download_year_dir)\n",
    "        os.makedirs(download_year_dir, exist_ok=True)\n",
    "        remove_files_in_directory(download_year_dir)\n",
    "\n",
    "        # download\n",
    "        await y.click()\n",
    "        await submit_button.click()\n",
    "\n",
    "        # award\n",
    "        await page.wait_for_selector(\n",
    "            \"div.usa-dt-tab__label\", state=\"attached\", timeout=60000\n",
    "        )\n",
    "        await page.click(\"button[title='Download']\")\n",
    "        await page.wait_for_selector(\n",
    "            \"div.full-download-modal\", state=\"attached\", timeout=60 * 000\n",
    "        )\n",
    "        download_window = await page.query_selector(\"div.full-download-modal\")\n",
    "        award = await download_window.query_selector(\"button:has-text('Award')\")\n",
    "        await award.click()\n",
    "        everything = await download_window.query_selector(\"button[title='Everything']\")\n",
    "        await download(page, everything, to_path=download_year_dir)\n",
    "        await page.wait_for_timeout(3000)\n",
    "        await page.press(\"body\", \"Escape\")\n",
    "\n",
    "        # await page.reload()\n",
    "\n",
    "        # transaction\n",
    "        await page.wait_for_selector(\n",
    "            \"div.usa-dt-tab__label\", state=\"attached\", timeout=60000\n",
    "        )\n",
    "        await page.click(\"button[title='Download']\")\n",
    "        await page.wait_for_selector(\n",
    "            \"div.full-download-modal\", state=\"attached\", timeout=60 * 000\n",
    "        )\n",
    "        download_window = await page.query_selector(\"div.full-download-modal\")\n",
    "        transaction = await download_window.query_selector(\n",
    "            \"button:has-text('Transaction')\"\n",
    "        )\n",
    "        await transaction.click()\n",
    "        everything = await download_window.query_selector(\"button[title='Everything']\")\n",
    "        await download(page, everything, to_path=download_year_dir)\n",
    "        await page.wait_for_timeout(3000)\n",
    "        await page.press(\"body\", \"Escape\")\n",
    "\n",
    "        await y.click()\n",
    "\n",
    "        # break\n",
    "\n",
    "    await page.wait_for_timeout(5000)\n",
    "\n",
    "    await browser.close()\n",
    "    await p.stop()\n",
    "\n",
    "\n",
    "await usa_spending_downloader(headless=True)"
   ]
  },
  {
   "cell_type": "code",
   "execution_count": null,
   "metadata": {},
   "outputs": [],
   "source": []
  }
 ],
 "metadata": {
  "kernelspec": {
   "display_name": "venv-us",
   "language": "python",
   "name": "python3"
  },
  "language_info": {
   "codemirror_mode": {
    "name": "ipython",
    "version": 3
   },
   "file_extension": ".py",
   "mimetype": "text/x-python",
   "name": "python",
   "nbconvert_exporter": "python",
   "pygments_lexer": "ipython3",
   "version": "3.10.12"
  }
 },
 "nbformat": 4,
 "nbformat_minor": 2
}
